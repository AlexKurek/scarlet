{
 "cells": [
  {
   "cell_type": "markdown",
   "metadata": {},
   "source": [
    "# Quick Start Guide\n",
    "This tutorial shows how to quickly get started using scarlet to reduce a sample image cube.\n",
    "In order to run this tutorial you will need either `astropy` (http://www.astropy.org) or `sep` (https://github.com/kbarbary/sep) installed to open/create the source catalog and `matplotlib` (https://matplotlib.org) to display the images"
   ]
  },
  {
   "cell_type": "code",
   "execution_count": 1,
   "metadata": {},
   "outputs": [],
   "source": [
    "# Import Packages and setup\n",
    "import logging\n",
    "\n",
    "import numpy as np\n",
    "\n",
    "import scarlet\n",
    "import scarlet.display\n",
    "\n",
    "%matplotlib inline\n",
    "import matplotlib\n",
    "import matplotlib.pyplot as plt\n",
    "# use a better colormap and don't interpolate the pixels\n",
    "matplotlib.rc('image', cmap='inferno')\n",
    "matplotlib.rc('image', interpolation='none')"
   ]
  },
  {
   "cell_type": "markdown",
   "metadata": {},
   "source": [
    "## Load and display the sample data"
   ]
  },
  {
   "cell_type": "markdown",
   "metadata": {},
   "source": [
    "### Load the sample data and source catalog\n",
    "Loading the source catalog requires astropy. If you don't have astropy installed you'll have to do the source detection yourself. For example, using `sep`:\n",
    "\n",
    "```python3\n",
    "import sep\n",
    "def makeCatalog(img):\n",
    "    detect = img.mean(axis=0) # simple average for detection\n",
    "    bkg = sep.Background(detect)\n",
    "    catalog = sep.extract(detect, 1.5, err=bkg.globalrms)\n",
    "    bg_rms = np.array([sep.Background(band).globalrms for band in img])\n",
    "    return catalog, bg_rms\n",
    "catalog, bg_rms = makeCatalog(images)\n",
    "```\n",
    "\n",
    "Otherwise you can just load the \"true\" catalog:"
   ]
  },
  {
   "cell_type": "code",
   "execution_count": 2,
   "metadata": {},
   "outputs": [],
   "source": [
    "# Load the sample images\n",
    "data = np.load(\"../data/test_sim/data.npz\")\n",
    "images = data[\"images\"]\n",
    "filters = data[\"filters\"]\n",
    "\n",
    "from astropy.table import Table as ApTable\n",
    "catalog = ApTable.read(\"../data/test_sim/true_catalog.fits\")\n",
    "bg_rms = np.array([20]*len(images))"
   ]
  },
  {
   "cell_type": "markdown",
   "metadata": {},
   "source": [
    "### Display a raw image cube\n",
    "This is an example of how to display an RGB image from an image cube of multiband data. In this case the image uses a $sin^{-1}$ function to normalize the flux and maps i,r,g (filters 3,2,1) $\\rightarrow$ RGB."
   ]
  },
  {
   "cell_type": "code",
   "execution_count": 3,
   "metadata": {},
   "outputs": [
    {
     "data": {
      "image/png": "[encoded data removed]",
      "text/plain": [
       "<Figure size 432x288 with 1 Axes>"
      ]
     },
     "metadata": {
      "needs_background": "light"
     },
     "output_type": "display_data"
    }
   ],
   "source": [
    "# Use Asinh scaling for the images\n",
    "norm = scarlet.display.Asinh(img=images, Q=20)\n",
    "# Map i,r,g -> RGB\n",
    "filter_indices = [3,2,1]\n",
    "# Convert the image to an RGB image\n",
    "img_rgb = scarlet.display.img_to_rgb(images, filter_indices=filter_indices, norm=norm)\n",
    "plt.imshow(img_rgb)\n",
    "for src in catalog:\n",
    "    plt.plot(src[\"x\"], src[\"y\"], \"rx\", mew=2)\n",
    "plt.show()"
   ]
  },
  {
   "cell_type": "markdown",
   "metadata": {},
   "source": [
    "## Initialize the sources\n",
    "Each source is a list of fundamental `scarlet.Component` instances and must be based on `scarlet.Source` or a derived class, in this case `ExtendedSource`, which enforces that the source is monotonic and symmetric."
   ]
  },
  {
   "cell_type": "code",
   "execution_count": 4,
   "metadata": {},
   "outputs": [
    {
     "ename": "TypeError",
     "evalue": "__init__() missing 1 required positional argument: 'bg_rms'",
     "output_type": "error",
     "traceback": [
      "\u001b[0;31m---------------------------------------------------------------------------\u001b[0m",
      "\u001b[0;31mTypeError\u001b[0m                                 Traceback (most recent call last)",
      "\u001b[0;32m<ipython-input-4-41c4abd7c27e>\u001b[0m in \u001b[0;36m<module>\u001b[0;34m\u001b[0m\n\u001b[0;32m----> 1\u001b[0;31m \u001b[0msources\u001b[0m \u001b[0;34m=\u001b[0m \u001b[0;34m[\u001b[0m\u001b[0mscarlet\u001b[0m\u001b[0;34m.\u001b[0m\u001b[0mExtendedSource\u001b[0m\u001b[0;34m(\u001b[0m\u001b[0;34m(\u001b[0m\u001b[0msrc\u001b[0m\u001b[0;34m[\u001b[0m\u001b[0;34m'y'\u001b[0m\u001b[0;34m]\u001b[0m\u001b[0;34m,\u001b[0m\u001b[0msrc\u001b[0m\u001b[0;34m[\u001b[0m\u001b[0;34m'x'\u001b[0m\u001b[0;34m]\u001b[0m\u001b[0;34m)\u001b[0m\u001b[0;34m,\u001b[0m \u001b[0mimages\u001b[0m\u001b[0;34m,\u001b[0m \u001b[0mbg_rms\u001b[0m\u001b[0;34m)\u001b[0m \u001b[0;32mfor\u001b[0m \u001b[0msrc\u001b[0m \u001b[0;32min\u001b[0m \u001b[0mcatalog\u001b[0m\u001b[0;34m]\u001b[0m\u001b[0;34m\u001b[0m\u001b[0;34m\u001b[0m\u001b[0m\n\u001b[0m",
      "\u001b[0;32m<ipython-input-4-41c4abd7c27e>\u001b[0m in \u001b[0;36m<listcomp>\u001b[0;34m(.0)\u001b[0m\n\u001b[0;32m----> 1\u001b[0;31m \u001b[0msources\u001b[0m \u001b[0;34m=\u001b[0m \u001b[0;34m[\u001b[0m\u001b[0mscarlet\u001b[0m\u001b[0;34m.\u001b[0m\u001b[0mExtendedSource\u001b[0m\u001b[0;34m(\u001b[0m\u001b[0;34m(\u001b[0m\u001b[0msrc\u001b[0m\u001b[0;34m[\u001b[0m\u001b[0;34m'y'\u001b[0m\u001b[0;34m]\u001b[0m\u001b[0;34m,\u001b[0m\u001b[0msrc\u001b[0m\u001b[0;34m[\u001b[0m\u001b[0;34m'x'\u001b[0m\u001b[0;34m]\u001b[0m\u001b[0;34m)\u001b[0m\u001b[0;34m,\u001b[0m \u001b[0mimages\u001b[0m\u001b[0;34m,\u001b[0m \u001b[0mbg_rms\u001b[0m\u001b[0;34m)\u001b[0m \u001b[0;32mfor\u001b[0m \u001b[0msrc\u001b[0m \u001b[0;32min\u001b[0m \u001b[0mcatalog\u001b[0m\u001b[0;34m]\u001b[0m\u001b[0;34m\u001b[0m\u001b[0;34m\u001b[0m\u001b[0m\n\u001b[0m",
      "\u001b[0;31mTypeError\u001b[0m: __init__() missing 1 required positional argument: 'bg_rms'"
     ]
    }
   ],
   "source": [
    "sources = [scarlet.ExtendedSource((src['y'],src['x']), images, bg_rms) for src in catalog]"
   ]
  },
  {
   "cell_type": "raw",
   "metadata": {
    "raw_mimetype": "text/restructuredtext"
   },
   "source": [
    ".. warning::\n",
    "\n",
    "    Note in the code above that coordinates in *scarlet* use the traditional C/numpy notation (y,x) as opposed to the mathematical (x,y) ordering. A common error when first starting out with *scarlet* is to mix the order of x and y in your catalog or source list, which can have adverse affects on the results of the deblender."
   ]
  },
  {
   "cell_type": "markdown",
   "metadata": {},
   "source": [
    "## Create and fit the model\n",
    "The `scarlet.Blend` class represent the sources as a tree and has the machinery to fit all of the sources to the given images. In this example the code is set to run for a maximum of 200 iterations, but will end early if the likelihood and all of the constraints converge."
   ]
  },
  {
   "cell_type": "code",
   "execution_count": null,
   "metadata": {},
   "outputs": [],
   "source": [
    "blend = scarlet.Blend(sources)\n",
    "blend.set_data(images, bg_rms=bg_rms)\n",
    "blend.fit(200)\n",
    "print(\"scarlet ran for {0} iterations\".format(blend.it))"
   ]
  },
  {
   "cell_type": "markdown",
   "metadata": {},
   "source": [
    "## View the results"
   ]
  },
  {
   "cell_type": "markdown",
   "metadata": {},
   "source": [
    "### View the full model\n",
    "First we load the model for the entire blend and its residual. Then we display the model using the same $sinh^{-1}$ stretch as the full image and a linear stretch for the residual."
   ]
  },
  {
   "cell_type": "code",
   "execution_count": null,
   "metadata": {},
   "outputs": [],
   "source": [
    "# Load the model and calculate the residual\n",
    "model = blend.get_model()\n",
    "residual = images-model\n",
    "# Create RGB images\n",
    "model_rgb = scarlet.display.img_to_rgb(model, filter_indices=filter_indices, norm=norm)\n",
    "residual_rgb = scarlet.display.img_to_rgb(residual, filter_indices=filter_indices)\n",
    "\n",
    "# Show the data, model, and residual\n",
    "fig = plt.figure(figsize=(15,5))\n",
    "ax = [fig.add_subplot(1,3,n+1) for n in range(3)]\n",
    "ax[0].imshow(img_rgb)\n",
    "ax[0].set_title(\"Data\")\n",
    "ax[1].imshow(model_rgb)\n",
    "ax[1].set_title(\"Model\")\n",
    "ax[2].imshow(residual_rgb)\n",
    "ax[2].set_title(\"Residual\")\n",
    "\n",
    "for k,component in enumerate(blend.components):\n",
    "    y,x = component.center\n",
    "    ax[0].text(x, y, k, color=\"b\")\n",
    "    ax[1].text(x, y, k, color=\"b\")\n",
    "plt.show()"
   ]
  },
  {
   "cell_type": "markdown",
   "metadata": {},
   "source": [
    "### View the source models\n",
    "It can also be useful to view the model for each source. For each source we extract the portion of the image contained in the sources bounding box, the true simulated source flux, and the model of the source, scaled so that all of the images have roughly the same pixel scale."
   ]
  },
  {
   "cell_type": "code",
   "execution_count": null,
   "metadata": {
    "scrolled": false
   },
   "outputs": [],
   "source": [
    "def get_true_image(m, catalog, filters):\n",
    "    \"\"\"Create the true multiband image for a source\n",
    "    \"\"\"\n",
    "    img = np.array([catalog[m][\"intensity_\"+f] for f in filters])\n",
    "    return img\n",
    "\n",
    "# We can only show the true values if the input catalog has the true intensity data for the sources\n",
    "# in other words, if you used SEP to build your catalog you do not have the true data.\n",
    "if \"intensity_\"+filters[0] in catalog.colnames:\n",
    "    has_truth = True\n",
    "    axes = 3\n",
    "else:\n",
    "    has_truth = False\n",
    "    axes = 2\n",
    "\n",
    "for k,src in enumerate(blend.components):\n",
    "    # Get the model for a single source\n",
    "    model = blend.get_model(k=k)[src.bb]\n",
    "    _rgb = scarlet.display.img_to_rgb(model, filter_indices=filter_indices, norm=norm)\n",
    "    # Get the patch from the original image\n",
    "    _img = images[src.bb]\n",
    "    _img_rgb = scarlet.display.img_to_rgb(_img, filter_indices=filter_indices, norm=norm)\n",
    "    # Set the figure size\n",
    "    ratio = src.shape[2]/src.shape[1]\n",
    "    fig_height = 3*src.shape[1]/20\n",
    "    fig_width = max(3*fig_height*ratio,2)\n",
    "    fig = plt.figure(figsize=(fig_width, fig_height))\n",
    "    # Generate and show the figure\n",
    "    ax = [fig.add_subplot(1,3,n+1) for n in range(3)]\n",
    "    ax[0].imshow(_img_rgb)\n",
    "    ax[0].set_title(\"Data\")\n",
    "    ax[1].imshow(_rgb)\n",
    "    ax[1].set_title(\"model {0}\".format(k))\n",
    "    if has_truth:\n",
    "        # Get the true image for the same source\n",
    "        truth = get_true_image(k, catalog, filters)[src.bb]\n",
    "        true_rgb = scarlet.display.img_to_rgb(truth, filter_indices=filter_indices, norm=norm)\n",
    "        ax[2].imshow(true_rgb)\n",
    "        ax[2].set_title(\"truth\")\n",
    "    plt.show()"
   ]
  },
  {
   "cell_type": "code",
   "execution_count": null,
   "metadata": {
    "collapsed": true
   },
   "outputs": [],
   "source": []
  }
 ],
 "metadata": {
  "celltoolbar": "Raw Cell Format",
  "kernelspec": {
   "display_name": "Python 3",
   "language": "python",
   "name": "python3"
  },
  "language_info": {
   "codemirror_mode": {
    "name": "ipython",
    "version": 3
   },
   "file_extension": ".py",
   "mimetype": "text/x-python",
   "name": "python",
   "nbconvert_exporter": "python",
   "pygments_lexer": "ipython3",
   "version": "3.7.1"
  }
 },
 "nbformat": 4,
 "nbformat_minor": 2
}
