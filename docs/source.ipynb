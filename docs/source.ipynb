{
 "cells": [
  {
   "cell_type": "markdown",
   "metadata": {
    "deletable": true,
    "editable": true
   },
   "source": [
    "# Sources ([scarlet.source](source.ipynb))"
   ]
  },
  {
   "cell_type": "markdown",
   "metadata": {
    "deletable": true,
    "editable": true
   },
   "source": [
    "[Source](#scarlet.source.Source) is a collection of one or several [Component](component.ipynb#scarlet.component.Component), e.g for a bulge and a disk, that can enforce additional constraints being put on the centers, SEDs, and morphologies of *all* components.\n",
    "\n",
    "In general, neither the SED nor the morphology are known ahead of time so *scarlet* offers a set of convenience classes, to generate an initial morphology and SED for a source at a given location in the image:\n",
    "* [PointSource](#scarlet.source.PointSource)\n",
    "* [ExtendedSource](#scarlet.source.ExtendedSource)\n",
    "* [MultiComponentSource](#scarlet.source.MultiComponentSource)\n",
    "\n",
    "For special purposes, it is recommended to build a custom class derived from [Source](#scarlet.source.Source)."
   ]
  },
  {
   "cell_type": "raw",
   "metadata": {
    "deletable": true,
    "editable": true,
    "raw_mimetype": "text/restructuredtext"
   },
   "source": [
    "Reference/API\n",
    "-------------\n",
    ".. automodule:: scarlet.source\n",
    "    :members:"
   ]
  }
 ],
 "metadata": {
  "celltoolbar": "Raw Cell Format",
  "kernelspec": {
   "display_name": "Python 3",
   "language": "python",
   "name": "python3"
  },
  "language_info": {
   "codemirror_mode": {
    "name": "ipython",
    "version": 3
   },
   "file_extension": ".py",
   "mimetype": "text/x-python",
   "name": "python",
   "nbconvert_exporter": "python",
   "pygments_lexer": "ipython3",
   "version": "3.5.2"
  }
 },
 "nbformat": 4,
 "nbformat_minor": 2
}
